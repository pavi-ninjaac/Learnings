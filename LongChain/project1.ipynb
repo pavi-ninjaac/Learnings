{
 "cells": [
  {
   "cell_type": "code",
   "execution_count": 1,
   "metadata": {},
   "outputs": [],
   "source": [
    "__import__('pysqlite3')\n",
    "import sys\n",
    "sys.modules['sqlite3'] = sys.modules.pop('pysqlite3')"
   ]
  },
  {
   "cell_type": "code",
   "execution_count": 2,
   "metadata": {},
   "outputs": [],
   "source": [
    "import sys\n",
    "import os\n",
    "\n",
    "sys.path.insert(0, \"/home/pavithra/projects/Learnings/\")\n",
    "from open_ai_keys import LONGSMITH_LEARNING_API_KEY, GEMINI_LEARNING_API_KEY\n",
    "# Set the Key as an environment variable.\n",
    "os.environ[\"LANGCHAIN_TRACING_V2\"] = \"true\"\n",
    "os.environ[\"LANGCHAIN_API_KEY\"] = LONGSMITH_LEARNING_API_KEY\n",
    "\n",
    "# Setting up the API key for the gemini model.\n",
    "os.environ[\"GOOGLE_API_KEY\"] = GEMINI_LEARNING_API_KEY"
   ]
  },
  {
   "cell_type": "markdown",
   "metadata": {},
   "source": [
    "- 1. Loader\n",
    "- 2. Split\n",
    "- 3. Store\n",
    "- 4. Retrive\n",
    "- 5. Generate"
   ]
  },
  {
   "cell_type": "markdown",
   "metadata": {},
   "source": [
    "# Basic learning"
   ]
  },
  {
   "cell_type": "code",
   "execution_count": 3,
   "metadata": {},
   "outputs": [
    {
     "name": "stderr",
     "output_type": "stream",
     "text": [
      "/home/pavithra/projects/Learnings/genai_learning/lib/python3.9/site-packages/tqdm/auto.py:21: TqdmWarning: IProgress not found. Please update jupyter and ipywidgets. See https://ipywidgets.readthedocs.io/en/stable/user_install.html\n",
      "  from .autonotebook import tqdm as notebook_tqdm\n"
     ]
    }
   ],
   "source": [
    "from langchain_google_genai import ChatGoogleGenerativeAI\n",
    "\n",
    "llm = ChatGoogleGenerativeAI(\n",
    "    model=\"gemini-1.5-pro\",\n",
    "    temperature=0,\n",
    "    max_tokens=None,\n",
    "    timeout=None,\n",
    "    max_retries=2,\n",
    "    # other params...\n",
    ")"
   ]
  },
  {
   "cell_type": "code",
   "execution_count": 4,
   "metadata": {},
   "outputs": [
    {
     "name": "stderr",
     "output_type": "stream",
     "text": [
      "WARNING: All log messages before absl::InitializeLog() is called are written to STDERR\n",
      "I0000 00:00:1723714751.972793   45342 fork_posix.cc:77] Other threads are currently calling into gRPC, skipping fork() handlers\n"
     ]
    },
    {
     "data": {
      "text/plain": [
       "AIMessage(content=\"I am a large language model, trained by Google. \\n\\nI don't have a name like a person does. You can call me Bard, or simply refer to me as Google AI. \\n\", response_metadata={'prompt_feedback': {'block_reason': 0, 'safety_ratings': []}, 'finish_reason': 'STOP', 'safety_ratings': [{'category': 'HARM_CATEGORY_SEXUALLY_EXPLICIT', 'probability': 'NEGLIGIBLE', 'blocked': False}, {'category': 'HARM_CATEGORY_HATE_SPEECH', 'probability': 'NEGLIGIBLE', 'blocked': False}, {'category': 'HARM_CATEGORY_HARASSMENT', 'probability': 'NEGLIGIBLE', 'blocked': False}, {'category': 'HARM_CATEGORY_DANGEROUS_CONTENT', 'probability': 'NEGLIGIBLE', 'blocked': False}]}, id='run-3f1891df-5ad5-401b-914f-cfaa2388f4ea-0', usage_metadata={'input_tokens': 6, 'output_tokens': 40, 'total_tokens': 46})"
      ]
     },
     "execution_count": 4,
     "metadata": {},
     "output_type": "execute_result"
    }
   ],
   "source": [
    "llm.invoke(\"what is your name?\")"
   ]
  },
  {
   "cell_type": "code",
   "execution_count": 5,
   "metadata": {},
   "outputs": [
    {
     "data": {
      "text/plain": [
       "AIMessage(content=\"J'adore programmer. \\n\", response_metadata={'prompt_feedback': {'block_reason': 0, 'safety_ratings': []}, 'finish_reason': 'STOP', 'safety_ratings': [{'category': 'HARM_CATEGORY_SEXUALLY_EXPLICIT', 'probability': 'NEGLIGIBLE', 'blocked': False}, {'category': 'HARM_CATEGORY_HATE_SPEECH', 'probability': 'NEGLIGIBLE', 'blocked': False}, {'category': 'HARM_CATEGORY_HARASSMENT', 'probability': 'NEGLIGIBLE', 'blocked': False}, {'category': 'HARM_CATEGORY_DANGEROUS_CONTENT', 'probability': 'NEGLIGIBLE', 'blocked': False}]}, id='run-63e06e2c-ee3f-46a7-818d-5de4c70eeab7-0', usage_metadata={'input_tokens': 21, 'output_tokens': 5, 'total_tokens': 26})"
      ]
     },
     "execution_count": 5,
     "metadata": {},
     "output_type": "execute_result"
    }
   ],
   "source": [
    "messages = [\n",
    "    (\n",
    "        \"system\",\n",
    "        \"You are a helpful assistant that translates English to French. Translate the user sentence.\",\n",
    "    ),\n",
    "    (\"human\", \"I love programming.\"),\n",
    "]\n",
    "ai_msg = llm.invoke(messages)\n",
    "ai_msg"
   ]
  },
  {
   "cell_type": "code",
   "execution_count": 6,
   "metadata": {},
   "outputs": [
    {
     "data": {
      "text/plain": [
       "AIMessage(content='Ich liebe das Programmieren. \\n', response_metadata={'prompt_feedback': {'block_reason': 0, 'safety_ratings': []}, 'finish_reason': 'STOP', 'safety_ratings': [{'category': 'HARM_CATEGORY_SEXUALLY_EXPLICIT', 'probability': 'NEGLIGIBLE', 'blocked': False}, {'category': 'HARM_CATEGORY_HATE_SPEECH', 'probability': 'NEGLIGIBLE', 'blocked': False}, {'category': 'HARM_CATEGORY_HARASSMENT', 'probability': 'NEGLIGIBLE', 'blocked': False}, {'category': 'HARM_CATEGORY_DANGEROUS_CONTENT', 'probability': 'NEGLIGIBLE', 'blocked': False}]}, id='run-951ae1b4-fdba-47d5-b2c2-5dced5a18764-0', usage_metadata={'input_tokens': 16, 'output_tokens': 7, 'total_tokens': 23})"
      ]
     },
     "execution_count": 6,
     "metadata": {},
     "output_type": "execute_result"
    }
   ],
   "source": [
    "from langchain_core.prompts import ChatPromptTemplate\n",
    "\n",
    "prompt = ChatPromptTemplate.from_messages(\n",
    "    [\n",
    "        (\n",
    "            \"system\",\n",
    "            \"You are a helpful assistant that translates {input_language} to {output_language}.\",\n",
    "        ),\n",
    "        (\"human\", \"{input}\"),\n",
    "    ]\n",
    ")\n",
    "\n",
    "chain = prompt | llm\n",
    "chain.invoke(\n",
    "    {\n",
    "        \"input_language\": \"English\",\n",
    "        \"output_language\": \"German\",\n",
    "        \"input\": \"I love programming.\",\n",
    "    }\n",
    ")"
   ]
  },
  {
   "cell_type": "markdown",
   "metadata": {},
   "source": [
    "# 2 | Document loader"
   ]
  },
  {
   "cell_type": "code",
   "execution_count": 7,
   "metadata": {},
   "outputs": [
    {
     "data": {
      "text/plain": [
       "[Document(metadata={'source': '/home/pavithra/projects/Learnings/LongChain/data/2_RM - Classification of Stochastic Processes.pdf', 'page': 0}, page_content='  \\n \\n \\n \\n \\n \\n \\n \\n \\n \\n \\n \\nMDS5 204/ Segment  1 \\n \\n CLASSIFICATION OF \\nSTOCHASTIC PROCESSES  \\n \\n \\n \\n \\n \\n \\n'),\n",
       " Document(metadata={'source': '/home/pavithra/projects/Learnings/LongChain/data/2_RM - Classification of Stochastic Processes.pdf', 'page': 1}, page_content='CLASSIFICATION  OF STOCHASTIC  PROCESSES   \\n©COPYRIGHT 2022 (VER. 1.0), ALL RIGHTS RESERVED. MANIPAL ACADEMY OF HIGHER EDUCATION                                                   2/8 \\nTable of Contents  \\n1. Stochastic Processes  4 \\n2. Classification of Stochastic Process  4 \\n2.1 Parameter Space  5 \\n2.2 State Space  5 \\n2.3 Discrete and Continuous Property  5 \\n3. Summary  8 \\n  \\n \\n \\n \\n \\n  '),\n",
       " Document(metadata={'source': '/home/pavithra/projects/Learnings/LongChain/data/2_RM - Classification of Stochastic Processes.pdf', 'page': 2}, page_content='CLASSIFICATION  OF STOCHASTIC  PROCESSES   \\n©COPYRIGHT 2022 (VER. 1.0), ALL RIGHTS RESERVED. MANIPAL ACADEMY OF HIGHER EDUCATION                                                   3/8 \\n Introduction  \\nThe classification of Stochastic Process has been done  based on Parameter space and \\nState space. Parameter  space  and State space has been further classified based on the \\ndiscrete and continuous property  of time and state space.    \\n Learning Objectives   \\nAt the end of this topic, you will be able to:  \\n● Explain the discrete and continuous state space and parameter space  \\n● Classify the types of stochastic processe s  \\n'),\n",
       " Document(metadata={'source': '/home/pavithra/projects/Learnings/LongChain/data/2_RM - Classification of Stochastic Processes.pdf', 'page': 3}, page_content='CLASSIFICATION  OF STOCHASTIC  PROCESSES   \\n©COPYRIGHT 2022 (VER. 1.0), ALL RIGHTS RESERVED. MANIPAL ACADEMY OF HIGHER EDUCATION                                                   4/8 \\n1. Stochastic Processes   \\nA stochastic process is a family or set of ordered random variables.  The outcome of a \\ndeterministic system is fixed, while the outcome of a stochastic process is uncertain. The \\ndynamics of stochastic processes are described by random variables and probability \\ndistributions.  \\nThe order of random variables is indicated by indexing each random variable in the family \\nby a subscript. The ordering is a result of the random variables being observed over time.  \\nReferring to the examples of the  previous se ssion,  the maximum number of outcomes \\nobtained while rolling a di ce was the random variable  where i ndexing was done over the \\nnumber of throws of the d ice. 𝑋𝑡 is the notation for the random variable that models the \\nvalue of the stochastic process at time t. The random variables in the set can be dependent \\nor independent of each other, reflecting the nature of the process being modelled.  In all \\nstochastic modell ing, a sample of data is collected from the process being modelled.  \\n2. Classification of Stochastic Process  \\nA stochastic process can be defined as a family of random variables, { 𝑋(𝑡):𝑡∈𝑇}, where 𝑡 \\ndenotes time , that is, at every time 𝑡 in the set 𝑇, a random number 𝑋(𝑡) is observed.  The \\nstochastic process is classified based on parameter space and state space . Each of these \\nis further classified based on their discreet and continuous nature . \\n \\nFigure 1: Classification of Stochastic Process  \\n \\n'),\n",
       " Document(metadata={'source': '/home/pavithra/projects/Learnings/LongChain/data/2_RM - Classification of Stochastic Processes.pdf', 'page': 4}, page_content='CLASSIFICATION  OF STOCHASTIC  PROCESSES   \\n©COPYRIGHT 2022 (VER. 1.0), ALL RIGHTS RESERVED. MANIPAL ACADEMY OF HIGHER EDUCATION                                                   5/8 \\n2.1 Parameter Space  \\n• Discrete -Time Process  \\n{ 𝑋(𝑡):𝑡∈𝑇} is a discrete -time  process  if the set 𝑇 is finite or countable . Here 𝑇 is the \\nparameter space and is discrete in nature. In practice, this means  𝑇={0,1,2,3,…}. In \\nother words, in a discrete -time process {𝑋(0), 𝑋(1), 𝑋(2),…} a random variable is \\nassociated with every time 0,1,2,3,… \\n• Continuous -Time Process  \\n{𝑋(𝑡):𝑡∈𝑇} is a continuous -time process  if the set 𝑇 is not finite or countable.  In \\npractice, this means 𝑇=[0,∞), 𝑜𝑟 𝑇=[0,𝐾) for some 𝐾. Thus, a continuous -time \\nprocess is {𝑋(𝑡):𝑡∈𝑇} has a random number 𝑋(𝑡) associated with every instant in \\ntime.  Note that,  𝑋(𝑡) need not  change at every instant in time, but it is allowed to \\nchange at any time.  That is, 𝑋(𝑡) does not just change at 𝑡=0,1,2,3,…, as seen in \\ndiscrete -time process.  \\n2.2 State Space  \\nThe State Space (𝑆) is the set of real values that 𝑋(𝑡) can take (a random variable can take ). \\nThis collection of values is known as the state space. While tossing a coin, the state spaces  \\nare head and tail and while rolling a dice , state spaces  are all the possible outcomes - 1, 2, \\n3, 4, 5 and 6. Every 𝑋(𝑡) takes a value in ℝ, but 𝑆 will often be a smaller set 𝑆 ⊆ ℝ. For example, \\nif 𝑋(𝑡) is the outcome of a coin tossed at time 𝑡, then the state space is 𝑆={0,1}. This {0,1} \\nrepresents the real number values for the sample space of random variable 𝑋. The \\nstochastic process can be in the state space 𝑆 (the set of states ). The state space ( 𝑆) is \\ndiscrete if it is finite or countable. Otherwise, it is continuous . \\n2.3 Discrete and  Continuous Property  \\nThe classification of a stochastic process depends on the two possible values of the state \\nspace and the parameter space  which  is discrete and continuous property.  '),\n",
       " Document(metadata={'source': '/home/pavithra/projects/Learnings/LongChain/data/2_RM - Classification of Stochastic Processes.pdf', 'page': 5}, page_content='CLASSIFICATION  OF STOCHASTIC  PROCESSES   \\n©COPYRIGHT 2022 (VER. 1.0), ALL RIGHTS RESERVED. MANIPAL ACADEMY OF HIGHER EDUCATION                                                   6/8 \\n \\nFigure 2: Classification of Stochastic Process  \\nFollow ing are the classification of the Stochastic process : \\n1. Discrete random sequence:  It is t he stochastic process  in which  both state and \\nparameter space is discrete in nature, i.e., Discrete -Time and Discrete -State processes . \\nHence, a nother name for Discrete Random Sequence is Discrete -Time and Discrete -\\nState process.   \\nLet us look at a few examples of discrete random sequences.  \\nExample 1:  Let the number of i ndividuals in a population at the end of year 𝑡 be 𝑋(𝑡). \\nHere, the random variable is number of individuals in a population at the end of year 𝑡, \\nand 𝑡 is the  indexing parameter. Then the stochastic process {𝑋(𝑡):𝑡∈𝑇} is a discreet \\nrandom sequence  where, time 𝑇={0,1,2,3,…} and the state space 𝑆={0,1,2,3,…} . 𝑇 \\nis a set of values that are discrete in nature and the state space is also discrete in \\nnature.  \\nExample 2: Suppose, a motor insurance company reviews the status of its customers \\nyearly, then there are three levels of discounts given (0%, 10% , 25% ) depending on \\nthe accident record of the driver. Let 𝑋(𝑡) be the percentage of discount at the end of \\nyear t. The  stochastic process is given by {𝑋(𝑡):𝑡∈𝑇}, where 𝑇={0,1,2,3,…} and the \\nstate space 𝑆={0,10,25}.  Here, the parameter space that is 𝑇 and the state space 𝑆 \\nas both are discrete in nature.  \\n'),\n",
       " Document(metadata={'source': '/home/pavithra/projects/Learnings/LongChain/data/2_RM - Classification of Stochastic Processes.pdf', 'page': 6}, page_content='CLASSIFICATION  OF STOCHASTIC  PROCESSES   \\n©COPYRIGHT 2022 (VER. 1.0), ALL RIGHTS RESERVED. MANIPAL ACADEMY OF HIGHER EDUCATION                                                   7/8 \\n2. Discrete random process:  When the parameter space is cont inuous  in nature and the \\nstate space is discrete in nature, then such stochastic process is known as discrete \\nrandom process.  \\nLet us look at a few examples of discrete random processes.  \\nExample 1:  Let the number of incoming  calls in an interval [0,𝑡] be 𝑋(𝑡), where 𝑋(𝑡) is \\nthe random variable and [0,𝑡] is the interval over which the number of incoming calls \\nis recorded. Then, the stochastic process given by the collection of these random \\nvariables { 𝑋(𝑡):𝑡∈𝑇}, has 𝑇={𝑡:0≤𝑡<∞} and the state space 𝑆={0,1,…}. Here,  \\nparameter space is continuous and state s pace is discrete in nature . \\nExample 2:  Let the number of cars parked at a commercial centre in the time interval \\n[0,𝑡] be 𝑋(𝑡). Therefore, the stochastic process is given by { 𝑋(𝑡):𝑡∈𝑇}, where 𝑇=\\n{𝑡:0≤𝑡<∞} and the state space 𝑆={0,1,…}. Here, the parameter s pace is \\ncontinuous in nature and the state space is discrete in nature because it represents \\nthe number of cars.  \\n3. Continuous random sequence:  When the parameter space is discrete in nature and the \\nstate space is continuous in nature, then such  stochastic process is known as \\ncontinuous random sequence.  \\nLet us look at a few examples of continuous random sequences.  \\nExample 1:   The share price for an asset at the close of trading on day ‘t’  with 𝑇=\\n{0,1,2,…} and 𝑆={𝑥:0≤𝑥< ∞}. Here, share price s can take any value from the real \\nnumber system which makes it continuous in nature.  \\nExample 2:  Let 𝑋(𝑛) represent the maximum temperature in a certain place on the \\nearth’s surface on the 𝑛th day, where 𝑇={1,2,3,…} and say, 𝑆=[−90,60] degree \\ncelsius. He re, the state space is continuous in nature, whereas the parameter space \\ncan only take the discrete values.  \\n4. Continuous random process:  When the state space and parameter space both are \\ncontinuous in nature, then the stochastic process is known as continuou s random \\nprocess.  '),\n",
       " Document(metadata={'source': '/home/pavithra/projects/Learnings/LongChain/data/2_RM - Classification of Stochastic Processes.pdf', 'page': 7}, page_content='CLASSIFICATION  OF STOCHASTIC  PROCESSES   \\n©COPYRIGHT 2022 (VER. 1.0), ALL RIGHTS RESERVED. MANIPAL ACADEMY OF HIGHER EDUCATION                                                   8/8 \\nLet us look at a few examples of continuous random sequences.  \\nExample 1:  Let 𝑋(𝑡) be the intensity of sun in a certain location on the earth’s surface \\nat time 𝑡, where 𝑇=[0,∞), and say 𝑆=[0,120  000 ]lux. Here, both parameter space \\nand state space are continuous in nature. Therefore, this is a Continuous -Time, \\nContinuous -State Stochastic Process or Continuous Random Process.  \\nExample 2:  The stochastic process of temperature in a particular city at time 𝑡 is given \\nas {𝑋(𝑡), 𝑡≥0}. Here,   𝑇=[0,∞), and 𝑆={𝑥|−50<𝑥<60}, where  both state space \\nand parameter space are continuous in nature.  \\nExample 3:  The stochastic process of water level in a dam observed at time t is given \\nas {𝑋(𝑡), 𝑡≥0}. Here, 𝑇=[0,∞), and 𝑆=[0,∞). In this, both state space and \\nparameter space are continuous in nature because  water level and time are both \\ncontinuous in nature.  \\n3. Summary  \\nIn this topic, we discussed : \\n• A Stochastic Process is defined based on the Parameter and State space.  \\n• Parameter and State Space can be discrete or continuous in nature.  \\n• There are four types of stochastic processes based on the discreet and continuous \\nvalues of Parameter and  the State space.  \\n \\n '),\n",
       " Document(metadata={'source': '/home/pavithra/projects/Learnings/LongChain/data/1_RM - Introduction to Stochastic Processes.pdf', 'page': 0}, page_content='  \\n \\n \\n \\n \\n \\n \\n \\n \\n \\n \\nMDS5 204/ Segment  1 \\n \\nINTRODUCTION TO \\nSTOCHASTIC PROCESSES  \\n \\n \\n \\n \\n \\n'),\n",
       " Document(metadata={'source': '/home/pavithra/projects/Learnings/LongChain/data/1_RM - Introduction to Stochastic Processes.pdf', 'page': 1}, page_content='INTRODUCTION  TO STOCHASTIC  PROCESSES   \\n©COPYRIGHT 202 3 (VER. 1.0), ALL RIGHTS RESERVED. MANIPAL ACADEMY OF HIGHER EDUCATION                                                   2/11 \\nTable of Contents  \\n1. Deterministic Model  4 \\n2. Stochastic Model  4 \\n3. Prerequisites for Stochastic Process  5 \\n4. Stochastic Processes  7 \\n5. State Space and Parameter Space  9 \\n6. Examples of Stochastic Process  10 \\n7. Summary  11 \\n \\n \\n \\n \\n  '),\n",
       " Document(metadata={'source': '/home/pavithra/projects/Learnings/LongChain/data/1_RM - Introduction to Stochastic Processes.pdf', 'page': 2}, page_content='INTRODUCTION  TO STOCHASTIC  PROCESSES   \\n©COPYRIGHT 202 3 (VER. 1.0), ALL RIGHTS RESERVED. MANIPAL ACADEMY OF HIGHER EDUCATION                                                   3/11 \\n Introduction  \\nThe motivation behind stochastic processes is to study the dynamics and a well -defined \\ntheory which is needed to study the characteristics of realistic models. The deterministic \\nmodels do not involve the concept of uncertainty, so the probability models are more \\nrealistic than deterministic models.  \\n Learning Objectives  \\nAt the end of this topic, you will be able to:  \\n● Explain the deterministic and stochastic model  \\n● Define sigma -algebra and the probability measure  \\n● Explain stochastic processes and sample path  \\n● Define state space and parameter space  \\n  \\n'),\n",
       " Document(metadata={'source': '/home/pavithra/projects/Learnings/LongChain/data/1_RM - Introduction to Stochastic Processes.pdf', 'page': 3}, page_content='INTRODUCTION  TO STOCHASTIC  PROCESSES   \\n©COPYRIGHT 202 3 (VER. 1.0), ALL RIGHTS RESERVED. MANIPAL ACADEMY OF HIGHER EDUCATION                                                   4/11 \\n1. Deterministic Model  \\nA deterministic model is a mathematical or computational representation of a system or \\nprocess in whi ch the outcome is fully determined (completely certain) by the initial \\nconditions and the underlying rules or laws that govern the system. A  deterministic  \\nmodel  allows you to calculate a future event exactly without the involvement of \\nrandomness. If the ou tcome of an experiment is certain (always the same), it is a \\ndeterministic  experiment .  \\nSome examples of deterministic model  are as follows : \\n• A simple physics model that describes the motion of an object under known forces.  \\n• A computer simulation of a manufacturing process that follows a fixed set of rules.  \\n• A mathematical model of a machine learning algorithm that predicts outcomes based \\non input data.  \\nHence, in a deterministic model everything is ‘certain ’ as it works under fixed initial \\nconditions whi ch results in fixed outcomes  and zero  involvement of randomness.  \\n2. Stochastic Model  \\nStochastic model is the model  that includes random variables.  \\nSome examples of Stochastic model are as follows:  \\n• Stock market model : It takes random fluctuations into account in stock prices . \\n• Weather forecasting model : It includes random variations in atmospheric conditions . \\n• Population growth model : It includes random fluctuations in birth and death rates  in \\nthe population . \\nLet’s consider an example of bacterial growth . In the deterministic growth model, number  of \\nbacteria presents  after 𝑡 minutes  can be determined . The deterministic growth model is to \\nassert the population of bacteria ’s grow th at a fixed rate, like 20% per minute  with zero \\nrandomness involved. The deterministic model does not address the uncertainty present in \\nthe reproduction rate of individual organisms.  \\n '),\n",
       " Document(metadata={'source': '/home/pavithra/projects/Learnings/LongChain/data/1_RM - Introduction to Stochastic Processes.pdf', 'page': 4}, page_content='INTRODUCTION  TO STOCHASTIC  PROCESSES   \\n©COPYRIGHT 202 3 (VER. 1.0), ALL RIGHTS RESERVED. MANIPAL ACADEMY OF HIGHER EDUCATION                                                   5/11 \\nThe stochastic proces s captures the uncertainty and makes the model more realistic than \\nthe deterministic model  as it considers the reproduction rate of individual organism. In many \\nbiological processes, the exponential distribution is a common choice for modelling the time \\nof birth and death. A simple stochastic gro wth model assumes that the time taken by \\nindividual bacterium to reproduce is an independent exponential random variable —for \\nexample, say, with a rate parameter of 0.20.  \\nSince r andomness  can be included in the model , by applying the stochastic processes or  \\nthe stochastic model,  the dynamics of the system  can be studied in a better way .  \\nIt helps to answer the following questions : \\n1. What is the average number of bacteria present at time t such as after 10 min, 1 hour, \\nor a day?  \\n2. What is the probability that the number of bacteria will exceed some threshold after t \\nminutes?  \\n3. What is the distribution of the time taken by the bacteria to double in size?  \\n4. What is the likelihood that the populatio n goes extinct, or reaches a long -term \\nequilibrium?  \\nTherefore, in all cases probability is used for the quantification of uncertainty in the syste m \\nwhich makes the stochastic model much  better than the deterministic model.  \\n3. Prerequisites  for Stochastic Proc ess \\nThere are some prerequisites that are required to be known , before implementing a  \\nstochastic process . They are:  \\n• Experiment : It is a measurement proce dure  or observation process.  \\n• Outcome : It is the result of an experiment , where if one outcome occurs, then no other \\noutcome can occur at the same time. For example, when  a coin is tossed , obtaining  a \\nhead or tail is an outcome.  \\n• Random Experiment : It is a well-defined  procedure that produces an observable \\noutcome that could not be perfectly predicted in advance.  \\n• Event : It is a single outcome or a collection of outcomes of an experiment.  '),\n",
       " Document(metadata={'source': '/home/pavithra/projects/Learnings/LongChain/data/1_RM - Introduction to Stochastic Processes.pdf', 'page': 5}, page_content='INTRODUCTION  TO STOCHASTIC  PROCESSES   \\n©COPYRIGHT 202 3 (VER. 1.0), ALL RIGHTS RESERVED. MANIPAL ACADEMY OF HIGHER EDUCATION                                                   6/11 \\n• Sample Space (𝛀): It is a set of possible outcomes of a random experiment. For \\nexample, tossing a coin is a random experiment and getting head or tail is the outcome. \\nSo, the collection of these outcomes  will become sample space , represented as,  \\n𝑅𝑎𝑛𝑑𝑜𝑚  𝑒𝑥𝑝𝑒𝑟𝑖𝑚𝑒𝑛𝑡:Toss  a coin  once  \\n𝑆𝑎𝑚𝑝𝑙𝑒  𝑆𝑝𝑎𝑐𝑒: 𝛀={𝐡𝐞𝐚𝐝, 𝐭𝐚𝐢𝐥} \\n• Random Variable : A random variable (X) is defined as a function from the sample \\nspace to the real numbers that is “ X:𝛺→𝑅” where X is a random variable, 𝛺 is a sample \\nspace and a domain and 𝑅 is the set of real number s and co -domain. So, every element \\nof this sample space will be associated to some element of th is set of real numbers . \\nA random variable assigns a real number to every possible outcome of a random \\nexperiment. In the given  random experiment , tossing a coin an d the  collection of \\noutcomes of getting a head and tail will be the sample space . X is a random variable \\nof getting a head  or tail . As shown below,  the head  is associated with a real number 1 \\nand the tail is associated with 0.    \\n𝑅𝑎𝑛𝑑𝑜𝑚  𝐸𝑥𝑝𝑒𝑟𝑖𝑚𝑒𝑛𝑡 ∶Toss  a coin  once  \\n𝑆𝑎𝑚𝑝𝑙𝑒: 𝛺={head,tail} \\n𝐴𝑛 𝑒𝑥𝑎𝑚𝑝𝑙𝑒  𝑜𝑓 𝑟𝑎𝑛𝑑𝑜𝑚  𝑣𝑎𝑟𝑖𝑎𝑏𝑙𝑒 : 𝑋:Ω→R maps  \"head\"→1, \"tail\"→0 \\nNote:  A random variable is a way of producing random real numbers.  \\n• Sigma -Algebra : Collection of all subjects of sample space ( 𝛺) to which we are willing \\nto assign probabilities -these subsets are called events. Suppose, Sigma -Algebra is \\ndenoted with ( 𝛽), then 𝛽 be a set whose elements are subsets of sample space (𝛺) \\nthen 𝛽 is a sigma -algebra if it satisfies the following axioms : \\n1. The sample space (𝛺) that belongs to the 𝛽 that is a Sigma algebra  (Ω∈β).  \\n2. If A lies in  𝛽 (A∈β), then AC should also be a member of 𝛽 (AC∈β). \\n3. If An is a countable collection of elements of 𝛽, and A is equals to union of  \\nAn (A = ⋃An∞\\nn=1), then A will belong to 𝛽 (A∈β). \\n• Probability Measure :  It is a function that associates probability to each of the events \\nbelonging to the Sigma -algebra  𝛽. Let P be a function that associates a real number to '),\n",
       " Document(metadata={'source': '/home/pavithra/projects/Learnings/LongChain/data/1_RM - Introduction to Stochastic Processes.pdf', 'page': 6}, page_content='INTRODUCTION  TO STOCHASTIC  PROCESSES   \\n©COPYRIGHT 202 3 (VER. 1.0), ALL RIGHTS RESERVED. MANIPAL ACADEMY OF HIGHER EDUCATION                                                   7/11 \\neach element of the Sigma algebra  𝛽, then P is a probability measure if it satisfies the \\nfollowing axioms.  \\n1. If A belongs to β (A∈β), then the probability of A should always be greater or \\nequal to 0 (P(A)≥0).  \\n2. The probability of the sample space that is a certain event is always equal  to one  \\n(P(Ω)=1). \\n3. If {An} is a countable collection of disjoint elements of β (that is Aj∩AK =Ø if j≠\\nk), then the probability of un ion of An is equal to the summation  of the probability \\nof An (P(⋃An∞\\nn=1)=∑P∞\\nn=1(An)). \\nA probabilistic experiment consists in extracting a ball from a box containing two balls, \\none red (R) and one blue (B). So, the sample space (𝛺) will consist of red ball and blue \\nball. (σ) Sigma algebra of events , that is , 𝛽, will consist of the null set  (Ø), the sample \\nspace  (Ω), extracting a red ball {R} and extracting a blue ball  {B}. Sample space  (𝛺) \\nmeans either a blue or red ball extracted.  \\nΩ={R,B}, \\nσ− algebra of events i.e.  \\nβ = {Ø, Ω, {R},{B}} \\nThe probability measure (P) on the Sigma algebra of even 𝛽 is,  \\nP(𝛽)=\\n{    0 𝑖𝑓 𝛽=∅\\n12⁄ 𝑖𝑓 𝛽={𝑅}\\n12⁄ 𝑖𝑓 𝛽={𝐵}\\n1 𝑖𝑓 𝛽=𝛺 \\n• Probability Space :  A probability space is a triplet ( Ω, β, P ) where Ω is sample space, β \\nis a sigma -algebra of events and P is a probability measure on β.  \\n4. Stochastic Processes  \\nA stochastic process is a family of indexed random variable  {𝑋(𝑡,𝑤)};𝑡∈𝑇;𝑤∈Ω}  defined \\non a probability space (𝛺,𝛽,𝑃) where 𝑇 is an arbitrary set. This set , {𝑋(𝑡,𝑤)};𝑡∈𝑇;𝑤∈Ω} \\nis known as stochastic process. It consists of two arguments, one is (t) and another one is \\n(w), where (w) belongs to the sample space (Ω) and (t) belongs to the index parameter (T). '),\n",
       " Document(metadata={'source': '/home/pavithra/projects/Learnings/LongChain/data/1_RM - Introduction to Stochastic Processes.pdf', 'page': 7}, page_content='INTRODUCTION  TO STOCHASTIC  PROCESSES   \\n©COPYRIGHT 202 3 (VER. 1.0), ALL RIGHTS RESERVED. MANIPAL ACADEMY OF HIGHER EDUCATION                                                   8/11 \\nIt also consists of the sample space  (Ω), the Sigma algebra  (β) and the probability measure  \\n(P). Here,  T may be time, length,  or distance  and can be a n arbitrary set.   \\nThere are many ways of visualising a stochastic process , such as  \\n• For each choice of 𝑡∈𝑇,𝑋(𝑡,𝑤) is a random variable.  \\n• For each choice of 𝜔∈𝛺,  𝑋(𝑡,𝑤) is a function of t. \\n• For each choice of  𝜔 and 𝑡,𝑋(𝑡,𝑤) is a number.  \\n• In general, it is an ensemble (family) of function 𝑋(𝑡,𝑤) having two arguments where, \\n𝑡 and 𝑤 can take different possible values.  \\n \\nFigure 1: Stochastic Processes  \\nThe set of functions (X(t,𝑤1), X(t,𝑤2), X(t,𝑤3), …,X(t,𝑤𝑛) corresponding to the  N outcomes \\nof an experiments is called an ensemble. Each member X(t,𝑤𝑖) is called a sample function  \\nof the stochastic process.  \\n \\nFigure 2: 1st Observation of Stochastic Process  \\nIn this observation  of Stochastic Process , the  X4 represents X(𝑡,𝑤4), X3 represents X(𝑡,𝑤3), \\nX2 represents X(t,𝑤2), and X1 represents  X(t,𝑤1). All the above paths  are known as Sam ple \\npaths or Sample function of a stochastic process. The values of X(t) at a particular time t1 \\ndefine a random variable X(t1) or represented b y X 1. \\n'),\n",
       " Document(metadata={'source': '/home/pavithra/projects/Learnings/LongChain/data/1_RM - Introduction to Stochastic Processes.pdf', 'page': 8}, page_content='INTRODUCTION  TO STOCHASTIC  PROCESSES   \\n©COPYRIGHT 202 3 (VER. 1.0), ALL RIGHTS RESERVED. MANIPAL ACADEMY OF HIGHER EDUCATION                                                   9/11 \\n \\nFigure 3: Observation of Stochastic Process  \\nThe graph shows five sample paths of a stochastic process {Xt} where t≥0. So, 𝑋𝑡(𝑤1), \\n𝑋𝑡(𝑤2)…, these are  nothing but X1, X2, X3, X4, X5, all are different sample paths or sample \\nfunctions of the stochastic process Xt. The average or the expected value 𝐸{X𝑡} of the \\nprocess is also drawn  (in yellow) , and that it is not a sample path; it is a deterministic \\nfunction of 𝑡.  \\nA stochastic process X=(Xt|t∈I) is a collection of random variables Xt. In this, w is \\nsuppressed and X(t) or Xt is used to denote a random process. Taking values in some (real -\\nvalued) set S,Xt(𝜔)∈S, and indexed by a real -valued (time) parameter t  ∈I. Here, I is \\nreferred to  as the parameter space and S is referred to  as the sample space.  Stochastic \\nprocesses are also called as random processes  (or just processes).  \\n5. State Space and Parameter Space  \\nThe index set I⊂ℝ over which random variable is indexed or as discussed earlier that  is \\nXt,t∈T  is called the parameter space.  The parameter space  can be  represented with  both  \\nT and I. Previously, it has been represented with T and now it is being represented  with I, as \\nit belongs to the set of real numbers . The value set S⊂ℝ , is also a subset of real number, \\ncalled as the state space of the process. The values added to the collection of random \\nvariables  is known as the state space. For example,  while tossing a coin, the values taken \\nas random variable s of head or tail, then the collection of  these values  will be the state \\nspace. Similarly,  while rolling  a dice, the collection of outcomes as 1, 2, 3, 4, 5 and 6, will also \\nbecome the state space. Sometimes notation 𝑋𝑡 is used to refer to the whole stochastic \\nprocess (instead of a  single random variable).  \\n'),\n",
       " Document(metadata={'source': '/home/pavithra/projects/Learnings/LongChain/data/1_RM - Introduction to Stochastic Processes.pdf', 'page': 9}, page_content='INTRODUCTION  TO STOCHASTIC  PROCESSES   \\n©COPYRIGHT 202 3 (VER. 1.0), ALL RIGHTS RESERVED. MANIPAL ACADEMY OF HIGHER EDUCATION                                                   10/11 \\n6. Examples of Stochastic Process  \\nConsider a simple experiment like throwing true dice.  \\n• Example 1  \\nSuppose that 𝑋𝑛 is the outcome of the nth throw, n≥1. Since  it\\'s a throw, it will always \\nbe greater than equals to one. Here , {𝑋𝑛,𝑛≥1} is a family of random variables such \\nthat for a distinct value of n (1,2…), one gets a distinct random variable 𝑋𝑛;{𝑋𝑛,𝑛≥\\n1}. It constitutes a stochastic process, known as B ernoulli process.  \\n• Example 2 \\nSuppose that 𝑋𝑛 is the number of sixes in the first 𝑛 throws. For a distinct value of 𝑛=\\n1,2,…, we get a distinct binomial variable 𝑋𝑛;{𝑋𝑛,𝑛≥1} which gives a family of random \\nvariables,  and this  is also a stochastic process.  \\n• Example 3  \\nSuppose that 𝑋𝑛 is the maximum number shown in the first 𝑛 throws. Here, {𝑋𝑛,𝑛≥1} \\nconstitutes a stochastic process.  For example, s uppose  \"𝑛\" is the n umber  of times a \\ndice is thrown then if 𝑛=1, and if maximum value is 6,  then  𝑋1=6. Similarly, if 𝑛=2 \\nand then 𝑋2=4 and if 𝑛=3 and then 𝑋3=5. Here,  𝑋 will become 𝑋1, 𝑋2, 𝑋3. So, these \\nwill become the  different values of random variables . Here a gain,  {𝑋𝑛,𝑛≥1} which \\ngives a family of random va riables is a stochastic process.  \\n• Example 4 \\nConsider that there are r cells and an infinitely large number of identical balls that are \\nthrown at random, one by one, into the cells. Assume that the ball being thrown is \\nequally likely to go into any of the cells.  Suppose that Xn is the number of occupied \\ncells after n throws.  Then {Xn,n≥1} constitutes a stochastic process.  \\n• Example 5  \\nConsider a random event occurring in time, such as the number of telephone calls \\nreceived at a switchboard. Suppose that X(t) is the random variable which represents \\nthe number of incoming calls in an interval (0,t) of duration t units. Here, the random \\nvariable is the number of incoming calls. The number of calls within a fixed interval of '),\n",
       " Document(metadata={'source': '/home/pavithra/projects/Learnings/LongChain/data/1_RM - Introduction to Stochastic Processes.pdf', 'page': 10}, page_content='INTRODUCTION  TO STOCHASTIC  PROCESSES   \\n©COPYRIGHT 202 3 (VER. 1.0), ALL RIGHTS RESERVED. MANIPAL ACADEMY OF HIGHER EDUCATION                                                   11/11 \\nspecified duration, say, one unit of time, is a random variable X(1). Here, X(1) means \\nhow many calls are received in one unit of time. The family {X(t),t∈T} constitutes a \\nstochastic process  where  T=[0,∞) is a continuous variable.  \\n7. Summary  \\nIn this topic, we discussed:  \\n• Deterministic model and Stochastic model  \\n• Stochastic processes and Sample path  \\n• State space and Parameter space  \\n \\n ')]"
      ]
     },
     "execution_count": 7,
     "metadata": {},
     "output_type": "execute_result"
    }
   ],
   "source": [
    "from langchain_community.document_loaders import PyPDFDirectoryLoader\n",
    "\n",
    "# Read all the documents in the given folder. TODO: Make the folder configurable and get it from the config file.\n",
    "loader = PyPDFDirectoryLoader(\"/home/pavithra/projects/Learnings/LongChain/data\")\n",
    "docs = loader.load()\n",
    "docs"
   ]
  },
  {
   "cell_type": "code",
   "execution_count": 8,
   "metadata": {},
   "outputs": [
    {
     "name": "stdout",
     "output_type": "stream",
     "text": [
      "  \n",
      " \n",
      " \n",
      " \n",
      " \n",
      " \n",
      " \n",
      " \n",
      " \n",
      " \n",
      " \n",
      " \n",
      "MDS5 204/ Segment  1 \n",
      " \n",
      " CLASSIFICATION OF \n",
      "STOCHASTIC PROCESSES  \n",
      " \n",
      " \n",
      " \n",
      " \n",
      " \n",
      " \n",
      "\n"
     ]
    }
   ],
   "source": [
    "print(docs[0].page_content[:500])"
   ]
  },
  {
   "cell_type": "code",
   "execution_count": 9,
   "metadata": {},
   "outputs": [
    {
     "name": "stdout",
     "output_type": "stream",
     "text": [
      "104\n",
      "389\n",
      "631\n",
      "1659\n",
      "1973\n",
      "1551\n",
      "2140\n",
      "1380\n",
      "97\n",
      "431\n",
      "778\n",
      "2016\n",
      "2139\n",
      "2236\n",
      "1856\n",
      "1369\n",
      "1973\n",
      "2084\n",
      "591\n"
     ]
    }
   ],
   "source": [
    "for document in docs:\n",
    "    print(len(document.page_content)) # The max is 2.5l length"
   ]
  },
  {
   "cell_type": "markdown",
   "metadata": {},
   "source": [
    "# 2 | Split the document "
   ]
  },
  {
   "cell_type": "code",
   "execution_count": 10,
   "metadata": {},
   "outputs": [],
   "source": [
    "from langchain_text_splitters import RecursiveCharacterTextSplitter\n",
    "\n",
    "text_splitter = RecursiveCharacterTextSplitter(chunk_size=1000,\n",
    "                                               chunk_overlap=400,\n",
    "                                               add_start_index=True)\n",
    "splits: list = text_splitter.split_documents(docs)"
   ]
  },
  {
   "cell_type": "code",
   "execution_count": 11,
   "metadata": {},
   "outputs": [
    {
     "name": "stdout",
     "output_type": "stream",
     "text": [
      "Length of the documents: 41\n"
     ]
    }
   ],
   "source": [
    "print(f\"Length of the documents: {len(splits)}\")"
   ]
  },
  {
   "cell_type": "code",
   "execution_count": 12,
   "metadata": {},
   "outputs": [
    {
     "data": {
      "text/plain": [
       "747"
      ]
     },
     "execution_count": 12,
     "metadata": {},
     "output_type": "execute_result"
    }
   ],
   "source": [
    "len(splits[8].page_content)"
   ]
  },
  {
   "cell_type": "code",
   "execution_count": 13,
   "metadata": {},
   "outputs": [
    {
     "data": {
      "text/plain": [
       "{'source': '/home/pavithra/projects/Learnings/LongChain/data/2_RM - Classification of Stochastic Processes.pdf',\n",
       " 'page': 4,\n",
       " 'start_index': 1224}"
      ]
     },
     "execution_count": 13,
     "metadata": {},
     "output_type": "execute_result"
    }
   ],
   "source": [
    "splits[8].metadata"
   ]
  },
  {
   "cell_type": "code",
   "execution_count": 14,
   "metadata": {},
   "outputs": [],
   "source": [
    "from langchain_chroma import Chroma\n",
    "from langchain_google_genai import GoogleGenerativeAIEmbeddings\n",
    "\n",
    "vectorstore = Chroma.from_documents(collection_name=\"user_document\",\n",
    "                                    documents=splits,\n",
    "                                    embedding=GoogleGenerativeAIEmbeddings(model=\"models/embedding-001\"),\n",
    "                                    )\n"
   ]
  },
  {
   "cell_type": "markdown",
   "metadata": {},
   "source": [
    "# 4 | Retriver\n"
   ]
  },
  {
   "cell_type": "code",
   "execution_count": 17,
   "metadata": {},
   "outputs": [],
   "source": [
    "retriever = vectorstore.as_retriever(search_type=\"similarity\", search_kwargs={\"k\": 3})\n",
    "retrieved_docs = retriever.invoke(\"What is stocastic process?\")\n"
   ]
  },
  {
   "cell_type": "code",
   "execution_count": 18,
   "metadata": {},
   "outputs": [
    {
     "data": {
      "text/plain": [
       "[Document(metadata={'page': 8, 'source': '/home/pavithra/projects/Learnings/LongChain/data/1_RM - Introduction to Stochastic Processes.pdf', 'start_index': 0}, page_content='INTRODUCTION  TO STOCHASTIC  PROCESSES   \\n©COPYRIGHT 202 3 (VER. 1.0), ALL RIGHTS RESERVED. MANIPAL ACADEMY OF HIGHER EDUCATION                                                   9/11 \\n \\nFigure 3: Observation of Stochastic Process  \\nThe graph shows five sample paths of a stochastic process {Xt} where t≥0. So, 𝑋𝑡(𝑤1), \\n𝑋𝑡(𝑤2)…, these are  nothing but X1, X2, X3, X4, X5, all are different sample paths or sample \\nfunctions of the stochastic process Xt. The average or the expected value 𝐸{X𝑡} of the \\nprocess is also drawn  (in yellow) , and that it is not a sample path; it is a deterministic \\nfunction of 𝑡.  \\nA stochastic process X=(Xt|t∈I) is a collection of random variables Xt. In this, w is \\nsuppressed and X(t) or Xt is used to denote a random process. Taking values in some (real -\\nvalued) set S,Xt(𝜔)∈S, and indexed by a real -valued (time) parameter t  ∈I. Here, I is \\nreferred to  as the parameter space and S is referred to  as the sample space.  Stochastic'),\n",
       " Document(metadata={'page': 4, 'source': '/home/pavithra/projects/Learnings/LongChain/data/1_RM - Introduction to Stochastic Processes.pdf', 'start_index': 1281}, page_content='equilibrium?  \\nTherefore, in all cases probability is used for the quantification of uncertainty in the syste m \\nwhich makes the stochastic model much  better than the deterministic model.  \\n3. Prerequisites  for Stochastic Proc ess \\nThere are some prerequisites that are required to be known , before implementing a  \\nstochastic process . They are:  \\n• Experiment : It is a measurement proce dure  or observation process.  \\n• Outcome : It is the result of an experiment , where if one outcome occurs, then no other \\noutcome can occur at the same time. For example, when  a coin is tossed , obtaining  a \\nhead or tail is an outcome.  \\n• Random Experiment : It is a well-defined  procedure that produces an observable \\noutcome that could not be perfectly predicted in advance.  \\n• Event : It is a single outcome or a collection of outcomes of an experiment.'),\n",
       " Document(metadata={'page': 7, 'source': '/home/pavithra/projects/Learnings/LongChain/data/1_RM - Introduction to Stochastic Processes.pdf', 'start_index': 0}, page_content='INTRODUCTION  TO STOCHASTIC  PROCESSES   \\n©COPYRIGHT 202 3 (VER. 1.0), ALL RIGHTS RESERVED. MANIPAL ACADEMY OF HIGHER EDUCATION                                                   8/11 \\nIt also consists of the sample space  (Ω), the Sigma algebra  (β) and the probability measure  \\n(P). Here,  T may be time, length,  or distance  and can be a n arbitrary set.   \\nThere are many ways of visualising a stochastic process , such as  \\n• For each choice of 𝑡∈𝑇,𝑋(𝑡,𝑤) is a random variable.  \\n• For each choice of 𝜔∈𝛺,  𝑋(𝑡,𝑤) is a function of t. \\n• For each choice of  𝜔 and 𝑡,𝑋(𝑡,𝑤) is a number.  \\n• In general, it is an ensemble (family) of function 𝑋(𝑡,𝑤) having two arguments where, \\n𝑡 and 𝑤 can take different possible values.  \\n \\nFigure 1: Stochastic Processes  \\nThe set of functions (X(t,𝑤1), X(t,𝑤2), X(t,𝑤3), …,X(t,𝑤𝑛) corresponding to the  N outcomes \\nof an experiments is called an ensemble. Each member X(t,𝑤𝑖) is called a sample function  \\nof the stochastic process.')]"
      ]
     },
     "execution_count": 18,
     "metadata": {},
     "output_type": "execute_result"
    }
   ],
   "source": [
    "retrieved_docs"
   ]
  },
  {
   "cell_type": "code",
   "execution_count": 19,
   "metadata": {},
   "outputs": [
    {
     "name": "stdout",
     "output_type": "stream",
     "text": [
      "INTRODUCTION  TO STOCHASTIC  PROCESSES   \n",
      "©COPYRIGHT 202 3 (VER. 1.0), ALL RIGHTS RESERVED. MANIPAL ACADEMY OF HIGHER EDUCATION                                                   9/11 \n",
      " \n",
      "Figure 3: Observation of Stochastic Process  \n",
      "The graph shows five sample paths of a stochastic process {Xt} where t≥0. So, 𝑋𝑡(𝑤1), \n",
      "𝑋𝑡(𝑤2)…, these are  nothing but X1, X2, X3, X4, X5, all are different sample paths or sample \n",
      "functions of the stochastic process Xt. The average or the expected value 𝐸{X𝑡} of the \n",
      "process is also drawn  (in yellow) , and that it is not a sample path; it is a deterministic \n",
      "function of 𝑡.  \n",
      "A stochastic process X=(Xt|t∈I) is a collection of random variables Xt. In this, w is \n",
      "suppressed and X(t) or Xt is used to denote a random process. Taking values in some (real -\n",
      "valued) set S,Xt(𝜔)∈S, and indexed by a real -valued (time) parameter t  ∈I. Here, I is \n",
      "referred to  as the parameter space and S is referred to  as the sample space.  Stochastic\n"
     ]
    }
   ],
   "source": [
    "print(retrieved_docs[0].page_content)\n"
   ]
  },
  {
   "cell_type": "markdown",
   "metadata": {},
   "source": [
    "# 5 | Generator"
   ]
  },
  {
   "cell_type": "code",
   "execution_count": 32,
   "metadata": {},
   "outputs": [
    {
     "name": "stdout",
     "output_type": "stream",
     "text": [
      "input_variables=['context', 'question'] metadata={'lc_hub_owner': 'rlm', 'lc_hub_repo': 'rag-prompt', 'lc_hub_commit_hash': '50442af133e61576e74536c6556cefe1fac147cad032f4377b60c436e6cdcb6e'} messages=[HumanMessagePromptTemplate(prompt=PromptTemplate(input_variables=['context', 'question'], template=\"You are an assistant for question-answering tasks. Use the following pieces of retrieved context to answer the question. If you don't know the answer, just say that you don't know. Use three sentences maximum and keep the answer concise.\\nQuestion: {question} \\nContext: {context} \\nAnswer:\"))]\n",
      "Stochastic processes are classified based on parameter space and state space. Both parameter and state space are further classified based on whether they are discrete or continuous. Therefore, there are four classifications of stochastic processes based on the combination of discrete or continuous parameter/state space. \n",
      "\n"
     ]
    }
   ],
   "source": [
    "# Retrieve and generate using the relevant snippets of the blog.\n",
    "from langchain import hub\n",
    "from langchain_core.prompts import ChatPromptTemplate\n",
    "from langchain_core.runnables import RunnablePassthrough\n",
    "from langchain_core.output_parsers import StrOutputParser\n",
    "\n",
    "prompt = hub.pull(\"rlm/rag-prompt\")\n",
    "print((prompt))\n",
    "prompt_template: str = \"\"\"Your name is noso, an assistant for question-answering tasks. Use the following pieces of retrieved context to answer the question.\n",
    " If you don't know the answer, just say that you don't know. Explain the answer in maximum 5 sentences. Answer like talking to a close friend.\n",
    " \\nQuestion: {question} \\nContext: {context} \\nAnswer:\"\"\"\n",
    "\n",
    "promt = ChatPromptTemplate([\n",
    "    (\"system\", \"Your name is noso. You are an assistant for question-answering task from the user uploaded document\"),\n",
    "    (\"human\", prompt_template)\n",
    "])\n",
    "retriever = vectorstore.as_retriever()\n",
    "def format_docs(docs):\n",
    "    return \"\\n\\n\".join(doc.page_content for doc in docs)\n",
    "\n",
    "\n",
    "rag_chain = (\n",
    "    {\"context\": retriever | format_docs, \"question\": RunnablePassthrough()}\n",
    "    | prompt\n",
    "    | llm\n",
    "    | StrOutputParser()\n",
    ")\n",
    "\n",
    "print(rag_chain.invoke(\"Hey man, What are all the classifications stocastic processes?\"))"
   ]
  },
  {
   "cell_type": "code",
   "execution_count": 33,
   "metadata": {},
   "outputs": [
    {
     "name": "stdout",
     "output_type": "stream",
     "text": [
      "This text focuses on defining and classifying stochastic processes, not their history. Therefore, I cannot answer your question. This text explains concepts like sample space, parameter space, and how stochastic processes are visualized. It also differentiates between deterministic and stochastic models. \n",
      "\n"
     ]
    }
   ],
   "source": [
    "print(rag_chain.invoke(\"What is the history of stochastic processes?\"))"
   ]
  },
  {
   "cell_type": "markdown",
   "metadata": {},
   "source": [
    "- about you file\n",
    "- study about different RAG methods and retrivers see anything interesting and useable\n",
    "- front end -- keep it question and answer, already asked questions in the side like chatgpt(store it in a file)\n",
    "- docker containers\n",
    "- github readme "
   ]
  },
  {
   "cell_type": "code",
   "execution_count": null,
   "metadata": {},
   "outputs": [],
   "source": []
  }
 ],
 "metadata": {
  "kernelspec": {
   "display_name": "Python 3",
   "language": "python",
   "name": "python3"
  },
  "language_info": {
   "codemirror_mode": {
    "name": "ipython",
    "version": 3
   },
   "file_extension": ".py",
   "mimetype": "text/x-python",
   "name": "python",
   "nbconvert_exporter": "python",
   "pygments_lexer": "ipython3",
   "version": "3.9.19"
  }
 },
 "nbformat": 4,
 "nbformat_minor": 2
}
